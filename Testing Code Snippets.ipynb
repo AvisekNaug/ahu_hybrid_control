{
 "cells": [
  {
   "cell_type": "code",
   "execution_count": 1,
   "metadata": {
    "scrolled": true
   },
   "outputs": [],
   "source": [
    "from source.helperfunctions import *\n",
    "from source.dataGenerator import *\n",
    "from source.predictionmodel import *"
   ]
  },
  {
   "cell_type": "code",
   "execution_count": 4,
   "metadata": {},
   "outputs": [],
   "source": [
    "# initially used to process raw data\n",
    "def customdf_ahu(ahupath, ahu, savepath):\n",
    "    # read the relevant data\n",
    "    data_path = [ahupath+'/BdXdata/', ahupath+'/Solcastdata/', ahupath+'/valvedata/']\n",
    "    date_column_name = ['Date', 'PeriodEnd', 'Time']\n",
    "    date_format = ['%m/%d/%Y %H:%M', '%Y-%m-%dT%H:%M:%SZ', None]\n",
    "    outlier_names = [['AirFlow', 'CCT_STP', 'CC_T', 'OAT', 'PHT_STP', 'PH_T.'], [], []]\n",
    "    time_offsets = [0, 0, 0]\n",
    "    metasysdata = [False, False, True]\n",
    "    # Create the data frame\n",
    "    df = createdataframe(data_path, date_column_name, date_format, outlier_names, time_offsets, metasysdata)\n",
    "    # drop solcast air temp and dew point\n",
    "    df.drop(columns=['AirTemp', 'DewpointTemp'], inplace=True)\n",
    "    # rename columns: maintain order of variables correctly\n",
    "    df.columns = ['OAT', 'SAT', 'SAT_STP', 'AirFlow', 'PHT_STP', 'CCT_STP',\n",
    "                  'PH_T', 'CC_T', 'RH', 'P_OP', 'C_OP', 'R_OP']\n",
    "    df.columns = [i+ahu for i in df.columns]\n",
    "\n",
    "    # save the data frame\n",
    "    dfsave(df, savepath)"
   ]
  },
  {
   "cell_type": "code",
   "execution_count": 5,
   "metadata": {},
   "outputs": [],
   "source": [
    "# params\n",
    "ahu1 = 'ahu1'\n",
    "# ahu2 = 'ahu2'\n",
    "metasysdataahu1 = [False, False, True]\n",
    "# metasysdataahu2 = [False, False, False]\n",
    "\n",
    "# create custom dataframes\n",
    "customdf_ahu('./data/ahu1', ahu1, 'hybrid_data_ahu1.pkl', metasysdataahu1)\n",
    "# customdf_ahu('./data/ahu2', ahu2, 'hybrid_data_ahu2.pkl', metasysdataahu2)"
   ]
  },
  {
   "cell_type": "code",
   "execution_count": 6,
   "metadata": {},
   "outputs": [],
   "source": [
    "df1 = read_pickle('hybrid_data_ahu1.pkl')\n",
    "# df2 = read_pickle('hybrid_data_ahu2.pkl')"
   ]
  },
  {
   "cell_type": "code",
   "execution_count": 8,
   "metadata": {
    "scrolled": true
   },
   "outputs": [],
   "source": [
    "# remove old results files from \"Results\" Folder\n",
    "removeoldresults('ResultsAHU1')\n",
    "# removeoldresults('ResultsAHU2')"
   ]
  },
  {
   "cell_type": "code",
   "execution_count": 9,
   "metadata": {},
   "outputs": [],
   "source": [
    "# learn function for estimating recovery heat air temperature for AHU 1\n",
    "X_train, X_test, y_train, y_test = recovheatdata(df1, ahu1)\n",
    "model = GBR_model(modeltype='Recovery Heat Temp', period=1, savepath='ResultsAHU1')\n",
    "model.trainmodel(X_train, X_test, y_train, y_test, savemodel=True)"
   ]
  },
  {
   "cell_type": "code",
   "execution_count": 10,
   "metadata": {},
   "outputs": [],
   "source": [
    "# learn function for estimating pre cool air temperature for AHU 1\n",
    "X_train, X_test, y_train, y_test = precooldata(df1, ahu1)\n",
    "model = GBR_model(modeltype='PreCool Temp', period=1, savepath='ResultsAHU1')\n",
    "model.trainmodel(X_train, X_test, y_train, y_test, savemodel=True)"
   ]
  },
  {
   "cell_type": "code",
   "execution_count": null,
   "metadata": {},
   "outputs": [],
   "source": [
    "# # learn function for estimating recovery heat air temperature for AHU 2\n",
    "# X_train, X_test, y_train, y_test = recovheatdata(df2, ahu2)\n",
    "# model = GBR_model(modeltype='Recovery Heat Temp', period=1, savepath='ResultsAHU2')\n",
    "# model.trainmodel(X_train, X_test, y_train, y_test, savemodel=True)"
   ]
  },
  {
   "cell_type": "code",
   "execution_count": null,
   "metadata": {},
   "outputs": [],
   "source": [
    "# # learn function for estimating pre cool air temperature for AHU 2\n",
    "# X_train, X_test, y_train, y_test = precooldata(df2, ahu2)\n",
    "# model = GBR_model(modeltype='PreCool Temp', period=1, savepath='ResultsAHU2')\n",
    "# model.trainmodel(X_train, X_test, y_train, y_test, savemodel=True)"
   ]
  },
  {
   "cell_type": "code",
   "execution_count": null,
   "metadata": {},
   "outputs": [],
   "source": [
    "# learn the necessary driven models from the provided data\n"
   ]
  }
 ],
 "metadata": {
  "kernelspec": {
   "display_name": "Python [conda env:AlumniHall] *",
   "language": "python",
   "name": "conda-env-AlumniHall-py"
  },
  "language_info": {
   "codemirror_mode": {
    "name": "ipython",
    "version": 3
   },
   "file_extension": ".py",
   "mimetype": "text/x-python",
   "name": "python",
   "nbconvert_exporter": "python",
   "pygments_lexer": "ipython3",
   "version": "3.7.3"
  }
 },
 "nbformat": 4,
 "nbformat_minor": 2
}
